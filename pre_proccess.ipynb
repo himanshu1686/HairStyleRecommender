{
 "cells": [
  {
   "cell_type": "code",
   "execution_count": 33,
   "id": "4cd40b69",
   "metadata": {},
   "outputs": [],
   "source": [
    "import os \n",
    "import matplotlib.pyplot as plt \n",
    "import numpy as np\n",
    "from keras.preprocessing.image import ImageDataGenerator,array_to_img, img_to_array, load_img\n",
    "from tqdm import tqdm\n",
    "from PIL import Image\n",
    "import math"
   ]
  },
  {
   "cell_type": "code",
   "execution_count": 34,
   "id": "2db60398",
   "metadata": {},
   "outputs": [
    {
     "name": "stdout",
     "output_type": "stream",
     "text": [
      "/home/himanshu/Documents/SELF\n",
      "./FaceShape Dataset/training_set/Square\n",
      "./FaceShape Dataset/training_set/Round\n",
      "./FaceShape Dataset/training_set/Oval\n",
      "./FaceShape Dataset/training_set/Oblong\n",
      "./FaceShape Dataset/training_set/Heart\n",
      "['Square', 'Round', 'Oval', 'Oblong', 'Heart'] [799, 800, 800, 799, 799]\n"
     ]
    }
   ],
   "source": [
    "print( os.getcwd())\n",
    "path = './FaceShape Dataset/'\n",
    "train_path = './FaceShape Dataset/training_set'\n",
    "x_val = []\n",
    "y_val = [] \n",
    "for dir in os.listdir( train_path ):\n",
    "    dir_path = os.path.join( train_path,dir )\n",
    "    print(dir_path)\n",
    "    x_val.append( dir )\n",
    "    y_val.append ( len( os.listdir( dir_path ) ) )\n",
    "print(x_val , y_val)"
   ]
  },
  {
   "cell_type": "code",
   "execution_count": 35,
   "id": "7bd14405",
   "metadata": {},
   "outputs": [
    {
     "data": {
      "text/plain": [
       "<BarContainer object of 5 artists>"
      ]
     },
     "execution_count": 35,
     "metadata": {},
     "output_type": "execute_result"
    },
    {
     "data": {
      "image/png": "[encoded data removed]",
      "text/plain": [
       "<Figure size 432x288 with 1 Axes>"
      ]
     },
     "metadata": {
      "needs_background": "light"
     },
     "output_type": "display_data"
    }
   ],
   "source": [
    "plt.xlabel('FACE SHAPE')\n",
    "plt.ylabel('Number of images')\n",
    "plt.bar(x_val,y_val)"
   ]
  },
  {
   "cell_type": "code",
   "execution_count": 36,
   "id": "aceb0125",
   "metadata": {},
   "outputs": [],
   "source": [
    "Y_Val = y_val\n",
    "X_Val = x_val\n",
    "img_height = 299 \n",
    "img_width = 299 \n",
    "img_size = ( img_width , img_height )\n",
    "# image_size= img_size"
   ]
  },
  {
   "cell_type": "code",
   "execution_count": 37,
   "id": "dc648a40",
   "metadata": {},
   "outputs": [
    {
     "name": "stdout",
     "output_type": "stream",
     "text": [
      "799 1598\n",
      "800 1600\n",
      "800 1600\n",
      "799 1598\n",
      "799 1598\n"
     ]
    }
   ],
   "source": [
    "datagen = ImageDataGenerator(\n",
    "        rotation_range=40,\n",
    "        width_shift_range=0.2,\n",
    "        height_shift_range=0.2,\n",
    "        shear_range=0.2,\n",
    "        zoom_range=0.2,\n",
    "        horizontal_flip=True,\n",
    "        fill_mode='nearest')\n",
    "\n",
    "class_size = 3000\n",
    "\n",
    "src_train_dir=os.path.join(path,'training_set')\n",
    "dest_train_dir=os.path.join(path,'training_set_aug')\n",
    "it=0\n",
    "for count in Y_Val:\n",
    "    #nb of generations per image for this class label in order to make it size ~= class_size\n",
    "    ratio=math.floor(class_size/count)-1\n",
    "    print(count,count*(ratio+1))\n",
    "    dest_lab_dir=os.path.join(dest_train_dir,X_Val[it])\n",
    "    src_lab_dir=os.path.join(src_train_dir,X_Val[it])\n",
    "    if not os.path.exists(dest_lab_dir):\n",
    "        os.makedirs(dest_lab_dir)\n",
    "    for file in os.listdir(src_lab_dir):\n",
    "        img=load_img(os.path.join(src_lab_dir,file))\n",
    "        #img.save(os.path.join(dest_lab_dir,file))\n",
    "        x=img_to_array(img) \n",
    "        x=x.reshape((1,) + x.shape)\n",
    "        i=0\n",
    "        for batch in datagen.flow(x, batch_size=1,save_to_dir=dest_lab_dir, save_format='jpg'):\n",
    "            i+=1\n",
    "            if i > ratio:\n",
    "                break \n",
    "    it=it+1"
   ]
  },
  {
   "cell_type": "code",
   "execution_count": 40,
   "id": "ea70469a",
   "metadata": {},
   "outputs": [
    {
     "name": "stdout",
     "output_type": "stream",
     "text": [
      "./FaceShape Dataset/training_set_aug/Square\n",
      "./FaceShape Dataset/training_set_aug/Round\n",
      "./FaceShape Dataset/training_set_aug/Oval\n",
      "./FaceShape Dataset/training_set_aug/Oblong\n",
      "./FaceShape Dataset/training_set_aug/Heart\n",
      "['Square', 'Round', 'Oval', 'Oblong', 'Heart'] [1469, 1486, 1490, 1483, 1483]\n"
     ]
    }
   ],
   "source": [
    "###Revisualising \n",
    "path = './FaceShape Dataset/'\n",
    "train_path_aug = './FaceShape Dataset/training_set_aug'\n",
    "new_x = [] \n",
    "new_y = [] \n",
    "for dir in os.listdir( train_path_aug ):\n",
    "    dir_path = os.path.join( train_path_aug,dir )\n",
    "    print(dir_path)\n",
    "    new_x.append( dir )\n",
    "    new_y.append ( len( os.listdir( dir_path ) ) )\n",
    "print(new_x , new_y)\n",
    "\n"
   ]
  },
  {
   "cell_type": "code",
   "execution_count": 41,
   "id": "52984603",
   "metadata": {},
   "outputs": [
    {
     "data": {
      "text/plain": [
       "<BarContainer object of 5 artists>"
      ]
     },
     "execution_count": 41,
     "metadata": {},
     "output_type": "execute_result"
    },
    {
     "data": {
      "image/png": "[encoded data removed]",
      "text/plain": [
       "<Figure size 432x288 with 1 Axes>"
      ]
     },
     "metadata": {
      "needs_background": "light"
     },
     "output_type": "display_data"
    }
   ],
   "source": [
    "plt.xlabel('FACE SHAPE')\n",
    "plt.ylabel('Number of images')\n",
    "plt.bar(new_x,new_y)"
   ]
  },
  {
   "cell_type": "code",
   "execution_count": null,
   "id": "fa707ff0",
   "metadata": {},
   "outputs": [],
   "source": []
  }
 ],
 "metadata": {
  "kernelspec": {
   "display_name": "Python 3",
   "language": "python",
   "name": "python3"
  },
  "language_info": {
   "codemirror_mode": {
    "name": "ipython",
    "version": 3
   },
   "file_extension": ".py",
   "mimetype": "text/x-python",
   "name": "python",
   "nbconvert_exporter": "python",
   "pygments_lexer": "ipython3",
   "version": "3.8.8"
  }
 },
 "nbformat": 4,
 "nbformat_minor": 5
}
